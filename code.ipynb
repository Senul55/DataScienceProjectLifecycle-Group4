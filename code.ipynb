{
 "cells": [
  {
   "cell_type": "markdown",
   "id": "2b88d544",
   "metadata": {},
   "source": [
    "# 1. Data and Methods"
   ]
  },
  {
   "cell_type": "markdown",
   "id": "470f92ec",
   "metadata": {},
   "source": [
    "## 1.1 Data Presentation"
   ]
  },
  {
   "cell_type": "code",
   "execution_count": 1,
   "id": "1f00cbdf",
   "metadata": {},
   "outputs": [],
   "source": [
    "# Importing the necessary libraries\n",
    "\n",
    "import glob\n",
    "import pandas as pd\n",
    "import xml.etree.ElementTree as ET\n",
    "from datetime import datetime"
   ]
  },
  {
   "cell_type": "code",
   "execution_count": 2,
   "id": "018d9c17",
   "metadata": {},
   "outputs": [],
   "source": [
    "# Importing the necessary sheets seperately from the excel file\n",
    "\n",
    "# Importing the Orders data sheet\n",
    "Orders_data = pd.read_excel('Global Superstore Lite.xlsx', sheet_name='Orders')\n",
    "\n",
    "# Importing the Returns data sheet\n",
    "Returns_data = pd.read_excel('Global Superstore Lite.xlsx', sheet_name='Returns')\n",
    "\n",
    "# Importing the People data sheet\n",
    "People_data = pd.read_excel('Global Superstore Lite.xlsx', sheet_name='People')"
   ]
  },
  {
   "cell_type": "markdown",
   "id": "9307f083",
   "metadata": {},
   "source": [
    "## 1.1.1 Describing Data Source"
   ]
  },
  {
   "cell_type": "code",
   "execution_count": 3,
   "id": "ac1decc3",
   "metadata": {
    "scrolled": true
   },
   "outputs": [
    {
     "name": "stdout",
     "output_type": "stream",
     "text": [
      "Data Source            :  Minger Company (internal data)\n",
      "Data Type              :  Transactional data\n",
      "No. of Sheets          :  3 Sheets as Orders, Returns and People\n",
      "No. of Data in Orders  :  999 Data rows\n",
      "No. of Data in Returns :  4 Data rows\n",
      "No. of Data in People  :  13 Data rows\n",
      "Time period of Data    :  2011-01-08 to 2014-12-31\n"
     ]
    }
   ],
   "source": [
    "# Inserting the necessary data in order to describe the Data Source\n",
    "\n",
    "# Describing the Data\n",
    "data_source = \"Minger Company (internal data)\"\n",
    "data_type = \"Transactional data\"\n",
    "no_of_sheets = \"3 Sheets as Orders, Returns and People\"\n",
    "no_of_data_in_orders = \"999 Data rows\"\n",
    "no_of_data_in_returns = \"4 Data rows\"\n",
    "no_of_data_in_people = \"13 Data rows\"\n",
    "time_period = \"2011-01-08 to 2014-12-31\"\n",
    "\n",
    "# Printing the data description \n",
    "BOLD = '\\033[1m'\n",
    "END = '\\033[0m'\n",
    "\n",
    "print(f\"Data Source            :  {data_source}\")\n",
    "print(f\"Data Type              :  {data_type}\")\n",
    "print(f\"No. of Sheets          :  {no_of_sheets}\")\n",
    "print(f\"No. of Data in Orders  :  {no_of_data_in_orders}\")\n",
    "print(f\"No. of Data in Returns :  {no_of_data_in_returns}\")\n",
    "print(f\"No. of Data in People  :  {no_of_data_in_people}\")\n",
    "print(f\"Time period of Data    :  {time_period}\")"
   ]
  },
  {
   "cell_type": "markdown",
   "id": "f3ca54e2",
   "metadata": {},
   "source": [
    "## 1.1.2 Data Summary"
   ]
  },
  {
   "cell_type": "code",
   "execution_count": 4,
   "id": "984394b5",
   "metadata": {},
   "outputs": [
    {
     "name": "stdout",
     "output_type": "stream",
     "text": [
      "Orders data\n",
      "  - Number of Transactions: 999\n",
      "  - Number of Products: 718\n",
      "  - Relevant Attributes: Row ID, Order ID, Order Date, Ship Date, Ship Mode, Customer ID, Customer Name, Segment, City, State, Country, Postal Code, Market, Region, Product ID, Category, Sub-Category, Product Name, Sales, Quantity, Discount, Profit, Shipping Cost, Order Priority\n",
      "\n",
      "Key Variables:\n",
      "  - Order ID\n",
      "  - Customer ID\n",
      "  - Product ID\n",
      "  - Product Priority\n"
     ]
    }
   ],
   "source": [
    "# Loading each sheet of your Excel file into separate DataFrames\n",
    "Orders_data = pd.read_excel('Global Superstore Lite.xlsx', sheet_name='Orders')\n",
    "\n",
    "# Getting basic information for each sheet\n",
    "print(\"Orders data\")\n",
    "print(f\"  - Number of Transactions: {len(Orders_data)}\")\n",
    "print(f\"  - Number of Products: {Orders_data['Product ID'].nunique()}\")\n",
    "print(f\"  - Relevant Attributes:\", \", \".join(Orders_data.columns))\n",
    "\n",
    "# Definning key variables based on your analysis goals\n",
    "key_variables = [\"Order ID\", \"Customer ID\", \"Product ID\", \"Product Priority\"]\n",
    "\n",
    "# Printing information about key variables\n",
    "print(\"\\nKey Variables:\")\n",
    "for var in key_variables:\n",
    "  print(f\"  - {var}\")"
   ]
  },
  {
   "cell_type": "code",
   "execution_count": 5,
   "id": "92901bfb",
   "metadata": {},
   "outputs": [
    {
     "name": "stdout",
     "output_type": "stream",
     "text": [
      "Returns data:\n",
      "  - Number of Transactions: 4\n",
      "  - Number of Orders: 4\n",
      "  - Relevant Attributes: Returned, Order ID, Market\n",
      "\n",
      "Key Variables:\n",
      "  - Order ID\n"
     ]
    }
   ],
   "source": [
    "# Loading each sheet of your Excel file into separate DataFrames\n",
    "Returns_data = pd.read_excel('Global Superstore Lite.xlsx', sheet_name='Returns')\n",
    "\n",
    "# Getting basic information for each sheet\n",
    "print(\"Returns data:\")\n",
    "print(f\"  - Number of Transactions: {len(Returns_data)}\")\n",
    "print(f\"  - Number of Orders: {Returns_data['Order ID'].nunique()}\")\n",
    "print(f\"  - Relevant Attributes:\", \", \".join(Returns_data.columns))\n",
    "\n",
    "# Definning key variables based on your analysis goals\n",
    "key_variables = [\"Order ID\"]\n",
    "\n",
    "# Printing information about key variables\n",
    "print(\"\\nKey Variables:\")\n",
    "for var in key_variables:\n",
    "  print(f\"  - {var}\")"
   ]
  },
  {
   "cell_type": "code",
   "execution_count": 6,
   "id": "c6a54ff7",
   "metadata": {},
   "outputs": [
    {
     "name": "stdout",
     "output_type": "stream",
     "text": [
      "People data:\n",
      "  - Number of Transactions: 13\n",
      "  - Number of People: 13\n",
      "  - Relevant Attributes: Person, Region\n",
      "\n",
      "Key Variables:\n",
      "  - Person\n"
     ]
    }
   ],
   "source": [
    "# Loading each sheet of your Excel file into separate DataFrames\n",
    "People_data = pd.read_excel('Global Superstore Lite.xlsx', sheet_name='People')\n",
    "\n",
    "# Getting basic information for each sheet\n",
    "print(\"People data:\")\n",
    "print(f\"  - Number of Transactions: {len(People_data)}\")\n",
    "print(f\"  - Number of People: {People_data['Person'].nunique()}\")\n",
    "print(f\"  - Relevant Attributes:\", \", \".join(People_data.columns))\n",
    "\n",
    "# Definning key variables based on your analysis goals\n",
    "key_variables = [\"Person\"]\n",
    "\n",
    "# Printing information about key variables\n",
    "print(\"\\nKey Variables:\")\n",
    "for var in key_variables:\n",
    "  print(f\"  - {var}\")"
   ]
  },
  {
   "cell_type": "markdown",
   "id": "eec58304",
   "metadata": {},
   "source": [
    "## 1.1.3 Data Quality Assessing - Orders"
   ]
  },
  {
   "cell_type": "code",
   "execution_count": 7,
   "id": "d048f892",
   "metadata": {},
   "outputs": [
    {
     "name": "stdout",
     "output_type": "stream",
     "text": [
      "\n",
      "Data Frame Info:\n",
      "<class 'pandas.core.frame.DataFrame'>\n",
      "RangeIndex: 999 entries, 0 to 998\n",
      "Data columns (total 24 columns):\n",
      " #   Column          Non-Null Count  Dtype         \n",
      "---  ------          --------------  -----         \n",
      " 0   Row ID          999 non-null    int64         \n",
      " 1   Order ID        999 non-null    object        \n",
      " 2   Order Date      999 non-null    datetime64[ns]\n",
      " 3   Ship Date       999 non-null    datetime64[ns]\n",
      " 4   Ship Mode       999 non-null    object        \n",
      " 5   Customer ID     999 non-null    object        \n",
      " 6   Customer Name   999 non-null    object        \n",
      " 7   Segment         999 non-null    object        \n",
      " 8   City            999 non-null    object        \n",
      " 9   State           999 non-null    object        \n",
      " 10  Country         999 non-null    object        \n",
      " 11  Postal Code     196 non-null    float64       \n",
      " 12  Market          999 non-null    object        \n",
      " 13  Region          999 non-null    object        \n",
      " 14  Product ID      999 non-null    object        \n",
      " 15  Category        999 non-null    object        \n",
      " 16  Sub-Category    999 non-null    object        \n",
      " 17  Product Name    999 non-null    object        \n",
      " 18  Sales           999 non-null    float64       \n",
      " 19  Quantity        999 non-null    int64         \n",
      " 20  Discount        999 non-null    float64       \n",
      " 21  Profit          999 non-null    float64       \n",
      " 22  Shipping Cost   999 non-null    float64       \n",
      " 23  Order Priority  999 non-null    object        \n",
      "dtypes: datetime64[ns](2), float64(5), int64(2), object(15)\n",
      "memory usage: 187.4+ KB\n"
     ]
    }
   ],
   "source": [
    "# Getting general information about the DataFrame\n",
    "\n",
    "print(\"\\nData Frame Info:\")\n",
    "Orders_data.info()"
   ]
  },
  {
   "cell_type": "code",
   "execution_count": 8,
   "id": "56c8f084",
   "metadata": {
    "scrolled": false
   },
   "outputs": [
    {
     "name": "stdout",
     "output_type": "stream",
     "text": [
      "Missing Values:\n",
      "  - Column 'Row ID': 0 missing values\n",
      "  - Column 'Order ID': 0 missing values\n",
      "  - Column 'Order Date': 0 missing values\n",
      "  - Column 'Ship Date': 0 missing values\n",
      "  - Column 'Ship Mode': 0 missing values\n",
      "  - Column 'Customer ID': 0 missing values\n",
      "  - Column 'Customer Name': 0 missing values\n",
      "  - Column 'Segment': 0 missing values\n",
      "  - Column 'City': 0 missing values\n",
      "  - Column 'State': 0 missing values\n",
      "  - Column 'Country': 0 missing values\n",
      "  - Column 'Postal Code': 803 missing values\n",
      "  - Column 'Market': 0 missing values\n",
      "  - Column 'Region': 0 missing values\n",
      "  - Column 'Product ID': 0 missing values\n",
      "  - Column 'Category': 0 missing values\n",
      "  - Column 'Sub-Category': 0 missing values\n",
      "  - Column 'Product Name': 0 missing values\n",
      "  - Column 'Sales': 0 missing values\n",
      "  - Column 'Quantity': 0 missing values\n",
      "  - Column 'Discount': 0 missing values\n",
      "  - Column 'Profit': 0 missing values\n",
      "  - Column 'Shipping Cost': 0 missing values\n",
      "  - Column 'Order Priority': 0 missing values\n"
     ]
    }
   ],
   "source": [
    "# Checking for missing values\n",
    "\n",
    "print(\"Missing Values:\")\n",
    "for col in Orders_data.columns:\n",
    "  # Counting the number of missing values per column\n",
    "  missing_count = Orders_data[col].isnull().sum()\n",
    "  # Printing the column name and number of missing values\n",
    "  print(f\"  - Column '{col}': {missing_count} missing values\")"
   ]
  },
  {
   "cell_type": "code",
   "execution_count": 9,
   "id": "66db19d1",
   "metadata": {},
   "outputs": [],
   "source": [
    "# Removing the Postal Code column\n",
    "Orders_data = Orders_data.drop('Postal Code', axis=1)"
   ]
  },
  {
   "cell_type": "code",
   "execution_count": 10,
   "id": "55532084",
   "metadata": {},
   "outputs": [
    {
     "name": "stdout",
     "output_type": "stream",
     "text": [
      "\n",
      "Data Type Inconsistencies:\n",
      "  - Column 'Order ID': Expected type int64, Actual type object\n",
      "  - Column 'Order Date': Expected type int64, Actual type datetime64[ns]\n",
      "  - Column 'Ship Date': Expected type int64, Actual type datetime64[ns]\n",
      "  - Column 'Ship Mode': Expected type int64, Actual type object\n",
      "  - Column 'Customer ID': Expected type int64, Actual type object\n",
      "  - Column 'Customer Name': Expected type int64, Actual type object\n",
      "  - Column 'Segment': Expected type int64, Actual type object\n",
      "  - Column 'City': Expected type int64, Actual type object\n",
      "  - Column 'State': Expected type int64, Actual type object\n",
      "  - Column 'Country': Expected type int64, Actual type object\n",
      "  - Column 'Market': Expected type int64, Actual type object\n",
      "  - Column 'Region': Expected type int64, Actual type object\n",
      "  - Column 'Product ID': Expected type int64, Actual type object\n",
      "  - Column 'Category': Expected type int64, Actual type object\n",
      "  - Column 'Sub-Category': Expected type int64, Actual type object\n",
      "  - Column 'Product Name': Expected type int64, Actual type object\n",
      "  - Column 'Sales': Expected type int64, Actual type float64\n",
      "  - Column 'Discount': Expected type int64, Actual type float64\n",
      "  - Column 'Profit': Expected type int64, Actual type float64\n",
      "  - Column 'Shipping Cost': Expected type int64, Actual type float64\n",
      "  - Column 'Order Priority': Expected type int64, Actual type object\n"
     ]
    }
   ],
   "source": [
    "# Checking for data inconsistencies \n",
    "\n",
    "print(\"\\nData Type Inconsistencies:\")\n",
    "for col in Orders_data.columns:\n",
    "  # Getting the expected data type\n",
    "  expected_type = 'int64'  \n",
    "  if Orders_data[col].dtype != expected_type:\n",
    "    print(f\"  - Column '{col}': Expected type {expected_type}, Actual type {Orders_data[col].dtype}\")"
   ]
  },
  {
   "cell_type": "code",
   "execution_count": 11,
   "id": "23d300e3",
   "metadata": {},
   "outputs": [
    {
     "name": "stdout",
     "output_type": "stream",
     "text": [
      "\n",
      "Data Outside Date Range:\n",
      "  - Number of rows outside the date range (2011-01-08 to 2014-12-31): 1\n"
     ]
    }
   ],
   "source": [
    "# Checking for invalid values\n",
    "\n",
    "start_date = pd.to_datetime('2011-01-08')\n",
    "end_date = pd.to_datetime('2014-12-31')\n",
    "\n",
    "# Filtering data within the date range\n",
    "filtered_data = Orders_data[(Orders_data['Order Date'] >= start_date) & (Orders_data['Order Date'] <= end_date)]\n",
    "\n",
    "# Counting data points outside the date range\n",
    "out_of_range_count = len(Orders_data) - len(filtered_data)\n",
    "\n",
    "# Printing information about data outside the date range\n",
    "print(\"\\nData Outside Date Range:\")\n",
    "print(f\"  - Number of rows outside the date range (2011-01-08 to 2014-12-31): {out_of_range_count}\")"
   ]
  },
  {
   "cell_type": "code",
   "execution_count": 12,
   "id": "b4c3d222",
   "metadata": {},
   "outputs": [
    {
     "name": "stdout",
     "output_type": "stream",
     "text": [
      "\n",
      "Invalid Values:\n",
      "  - Column 'Order Quantity': No negative values found\n"
     ]
    }
   ],
   "source": [
    "# Checking for negative order quantities\n",
    "\n",
    "print(\"\\nInvalid Values:\")\n",
    "invalid_count = (Orders_data['Quantity'] < 0).sum()\n",
    "\n",
    "if invalid_count > 0:\n",
    "  print(f\"  - Column 'Order Quantity': {invalid_count} negative values found\")\n",
    "else:\n",
    "  print(f\"  - Column 'Order Quantity': No negative values found\")"
   ]
  },
  {
   "cell_type": "code",
   "execution_count": 13,
   "id": "ffc6d853",
   "metadata": {
    "scrolled": false
   },
   "outputs": [
    {
     "name": "stdout",
     "output_type": "stream",
     "text": [
      "\n",
      "Outliers (IQR method): 38 potential outliers in 'Sales'\n",
      "Order IDs of outliers (descending order):\n",
      "US-2014-168116\n",
      "US-2013-143819\n",
      "US-2013-140158\n",
      "US-2013-107440\n",
      "US-2012-128587\n",
      "SA-2014-1270\n",
      "MO-2014-2000\n",
      "IN-2014-77017\n",
      "IN-2014-76016\n",
      "IN-2014-66615\n",
      "IN-2014-56206\n",
      "IN-2013-83191\n",
      "IN-2013-71249\n",
      "IN-2013-50809\n",
      "IN-2013-13891\n",
      "IN-2012-86369\n",
      "IN-2012-51810\n",
      "IN-2012-26274\n",
      "IN-2011-35178\n",
      "ID-2011-64599\n",
      "ES-2014-5530354\n",
      "ES-2014-3785216\n",
      "ES-2014-1651774\n",
      "ES-2013-3939561\n",
      "ES-2013-2860574\n",
      "ES-2012-5877219\n",
      "ES-2011-2257437\n",
      "CA-2014-166709\n",
      "CA-2014-143112\n",
      "CA-2014-138289\n",
      "CA-2014-135909\n",
      "CA-2013-143714\n",
      "CA-2013-118689\n",
      "CA-2013-117121\n",
      "CA-2012-145352\n",
      "CA-2011-145541\n",
      "CA-2011-139892\n",
      "CA-2011-116904\n"
     ]
    }
   ],
   "source": [
    "# Checking for outliers\n",
    "# Identifying outliers using IQR\n",
    "\n",
    "Q1 = Orders_data['Sales'].quantile(0.25)\n",
    "Q3 = Orders_data['Sales'].quantile(0.75)\n",
    "IQR = Q3 - Q1\n",
    "lower_bound = Q1 - 1.5 * IQR\n",
    "upper_bound = Q3 + 1.5 * IQR\n",
    "\n",
    "# Finding outlier order IDs and sort them in descending order\n",
    "\n",
    "outlier_order_ids = Orders_data[\n",
    "    (Orders_data['Sales'] < lower_bound) | (Orders_data['Sales'] > upper_bound)\n",
    "]['Order ID'].sort_values(ascending=False).tolist()\n",
    "\n",
    "# Printing information about outliers\n",
    "\n",
    "print(f\"\\nOutliers (IQR method): {len(outlier_order_ids)} potential outliers in 'Sales'\")\n",
    "if outlier_order_ids:\n",
    "  print(f\"Order IDs of outliers (descending order):\")\n",
    "  print(*outlier_order_ids, sep='\\n')  # Print each order ID on a new line"
   ]
  },
  {
   "cell_type": "code",
   "execution_count": 14,
   "id": "07976c4e",
   "metadata": {
    "scrolled": false
   },
   "outputs": [
    {
     "name": "stdout",
     "output_type": "stream",
     "text": [
      "Removing outliers (order IDs):\n",
      "  - Removing order ID: US-2014-168116\n",
      "  - Removing order ID: US-2013-143819\n",
      "  - Removing order ID: US-2013-140158\n",
      "  - Removing order ID: US-2013-107440\n",
      "  - Removing order ID: US-2012-128587\n",
      "  - Removing order ID: SA-2014-1270\n",
      "  - Removing order ID: MO-2014-2000\n",
      "  - Removing order ID: IN-2014-77017\n",
      "  - Removing order ID: IN-2014-76016\n",
      "  - Removing order ID: IN-2014-66615\n",
      "  - Removing order ID: IN-2014-56206\n",
      "  - Removing order ID: IN-2013-83191\n",
      "  - Removing order ID: IN-2013-71249\n",
      "  - Removing order ID: IN-2013-50809\n",
      "  - Removing order ID: IN-2013-13891\n",
      "  - Removing order ID: IN-2012-86369\n",
      "  - Removing order ID: IN-2012-51810\n",
      "  - Removing order ID: IN-2012-26274\n",
      "  - Removing order ID: IN-2011-35178\n",
      "  - Removing order ID: ID-2011-64599\n",
      "  - Removing order ID: ES-2014-5530354\n",
      "  - Removing order ID: ES-2014-3785216\n",
      "  - Removing order ID: ES-2014-1651774\n",
      "  - Removing order ID: ES-2013-3939561\n",
      "  - Removing order ID: ES-2013-2860574\n",
      "  - Removing order ID: ES-2012-5877219\n",
      "  - Removing order ID: ES-2011-2257437\n",
      "  - Removing order ID: CA-2014-166709\n",
      "  - Removing order ID: CA-2014-143112\n",
      "  - Removing order ID: CA-2014-138289\n",
      "  - Removing order ID: CA-2014-135909\n",
      "  - Removing order ID: CA-2013-143714\n",
      "  - Removing order ID: CA-2013-118689\n",
      "  - Removing order ID: CA-2013-117121\n",
      "  - Removing order ID: CA-2012-145352\n",
      "  - Removing order ID: CA-2011-145541\n",
      "  - Removing order ID: CA-2011-139892\n",
      "  - Removing order ID: CA-2011-116904\n",
      "\n",
      "960 rows remaining after outlier removal\n"
     ]
    }
   ],
   "source": [
    "# Removing outliers one by one\n",
    "\n",
    "if outlier_order_ids:\n",
    "  print(\"Removing outliers (order IDs):\")\n",
    "  for order_id in outlier_order_ids:\n",
    "    print(f\"  - Removing order ID: {order_id}\")\n",
    "    Orders_data = Orders_data[Orders_data['Order ID'] != order_id]  # Remove row with this order ID\n",
    "\n",
    "# Printing information after removal\n",
    "\n",
    "print(f\"\\n{len(Orders_data)} rows remaining after outlier removal\")"
   ]
  },
  {
   "cell_type": "code",
   "execution_count": 15,
   "id": "f804cbf8",
   "metadata": {},
   "outputs": [
    {
     "name": "stdout",
     "output_type": "stream",
     "text": [
      "\n",
      "Duplicate Rows: 0 rows found\n"
     ]
    }
   ],
   "source": [
    "# Checking for Uniqueness\n",
    "\n",
    "duplicate_count = Orders_data.duplicated().sum()\n",
    "print(f\"\\nDuplicate Rows: {duplicate_count} rows found\")"
   ]
  },
  {
   "cell_type": "code",
   "execution_count": 16,
   "id": "b7cc8f04",
   "metadata": {},
   "outputs": [
    {
     "name": "stdout",
     "output_type": "stream",
     "text": [
      "\n",
      "Unique Customer IDs: 613\n"
     ]
    }
   ],
   "source": [
    "# Checking for number of unique values in Customer ID\n",
    "\n",
    "unique_count = Orders_data['Customer ID'].nunique()\n",
    "print(f\"\\nUnique Customer IDs: {unique_count}\")"
   ]
  },
  {
   "cell_type": "code",
   "execution_count": 17,
   "id": "84c71c44",
   "metadata": {},
   "outputs": [
    {
     "name": "stdout",
     "output_type": "stream",
     "text": [
      "\n",
      "Descriptive Statistics:\n",
      "              Row ID       Order ID                     Order Date  \\\n",
      "count     960.000000            960                            960   \n",
      "unique           NaN            916                            NaN   \n",
      "top              NaN  IN-2011-10286                            NaN   \n",
      "freq             NaN              4                            NaN   \n",
      "mean    24874.669792            NaN  2013-05-17 15:57:00.000000256   \n",
      "min        58.000000            NaN            2011-01-07 00:00:00   \n",
      "25%     14820.250000            NaN            2012-06-19 00:00:00   \n",
      "50%     24496.000000            NaN            2013-06-26 00:00:00   \n",
      "75%     33904.500000            NaN            2014-05-26 12:00:00   \n",
      "max     51284.000000            NaN            2014-12-31 00:00:00   \n",
      "std     12971.495699            NaN                            NaN   \n",
      "\n",
      "                            Ship Date    Ship Mode Customer ID  \\\n",
      "count                             960          960         960   \n",
      "unique                            NaN            4         613   \n",
      "top                               NaN  First Class    AM-10705   \n",
      "freq                              NaN          314           6   \n",
      "mean    2013-05-20 11:27:00.000000256          NaN         NaN   \n",
      "min               2011-01-11 00:00:00          NaN         NaN   \n",
      "25%               2012-06-21 12:00:00          NaN         NaN   \n",
      "50%               2013-06-30 00:00:00          NaN         NaN   \n",
      "75%               2014-05-30 06:00:00          NaN         NaN   \n",
      "max               2015-01-03 00:00:00          NaN         NaN   \n",
      "std                               NaN          NaN         NaN   \n",
      "\n",
      "         Customer Name   Segment           City       State  ...  \\\n",
      "count              960       960            960         960  ...   \n",
      "unique             548         3            600         346  ...   \n",
      "top     Anne McFarland  Consumer  New York City  California  ...   \n",
      "freq                 6       486             27          35  ...   \n",
      "mean               NaN       NaN            NaN         NaN  ...   \n",
      "min                NaN       NaN            NaN         NaN  ...   \n",
      "25%                NaN       NaN            NaN         NaN  ...   \n",
      "50%                NaN       NaN            NaN         NaN  ...   \n",
      "75%                NaN       NaN            NaN         NaN  ...   \n",
      "max                NaN       NaN            NaN         NaN  ...   \n",
      "std                NaN       NaN            NaN         NaN  ...   \n",
      "\n",
      "             Product ID    Category Sub-Category  \\\n",
      "count               960         960          960   \n",
      "unique              707           3           12   \n",
      "top     TEC-PH-10004664  Technology       Phones   \n",
      "freq                  6         425          179   \n",
      "mean                NaN         NaN          NaN   \n",
      "min                 NaN         NaN          NaN   \n",
      "25%                 NaN         NaN          NaN   \n",
      "50%                 NaN         NaN          NaN   \n",
      "75%                 NaN         NaN          NaN   \n",
      "max                 NaN         NaN          NaN   \n",
      "std                 NaN         NaN          NaN   \n",
      "\n",
      "                           Product Name        Sales    Quantity    Discount  \\\n",
      "count                               960   960.000000  960.000000  960.000000   \n",
      "unique                              469          NaN         NaN         NaN   \n",
      "top     Motorola Smart Phone, Full Size          NaN         NaN         NaN   \n",
      "freq                                 17          NaN         NaN         NaN   \n",
      "mean                                NaN  1988.199400    5.952083    0.090094   \n",
      "min                                 NaN   457.140000    1.000000    0.000000   \n",
      "25%                                 NaN  1259.671850    4.000000    0.000000   \n",
      "50%                                 NaN  1838.040000    6.000000    0.000000   \n",
      "75%                                 NaN  2575.926000    7.000000    0.150000   \n",
      "max                                 NaN  4748.436000   14.000000    0.800000   \n",
      "std                                 NaN   931.799734    2.566284    0.139659   \n",
      "\n",
      "             Profit  Shipping Cost  Order Priority  \n",
      "count    960.000000     960.000000             960  \n",
      "unique          NaN            NaN               4  \n",
      "top             NaN            NaN            High  \n",
      "freq            NaN            NaN             412  \n",
      "mean     309.277209     331.329313             NaN  \n",
      "min    -6599.978000     203.130000             NaN  \n",
      "25%       86.217300     235.415000             NaN  \n",
      "50%      292.188000     286.705000             NaN  \n",
      "75%      596.532475     375.245000             NaN  \n",
      "max     2229.024000     933.570000             NaN  \n",
      "std      605.506882     134.484866             NaN  \n",
      "\n",
      "[11 rows x 23 columns]\n"
     ]
    }
   ],
   "source": [
    "# Descriptive statistics\n",
    "\n",
    "print(\"\\nDescriptive Statistics:\")\n",
    "print(Orders_data.describe(include='all')) "
   ]
  },
  {
   "cell_type": "code",
   "execution_count": 18,
   "id": "2b9b5c28",
   "metadata": {},
   "outputs": [],
   "source": [
    "# Saving the cleaned DataFrame to a new CSV file\n",
    "\n",
    "Orders_data.to_csv(\"Processed_data_orders.csv\", index=False)"
   ]
  },
  {
   "cell_type": "markdown",
   "id": "ebba0e7d",
   "metadata": {},
   "source": [
    "# 1.1.3 Data Quality Assessing - Returns"
   ]
  },
  {
   "cell_type": "code",
   "execution_count": 19,
   "id": "aa0ab045",
   "metadata": {},
   "outputs": [
    {
     "name": "stdout",
     "output_type": "stream",
     "text": [
      "\n",
      "Data Frame Info:\n",
      "<class 'pandas.core.frame.DataFrame'>\n",
      "RangeIndex: 4 entries, 0 to 3\n",
      "Data columns (total 3 columns):\n",
      " #   Column    Non-Null Count  Dtype \n",
      "---  ------    --------------  ----- \n",
      " 0   Returned  4 non-null      object\n",
      " 1   Order ID  4 non-null      object\n",
      " 2   Market    4 non-null      object\n",
      "dtypes: object(3)\n",
      "memory usage: 228.0+ bytes\n"
     ]
    }
   ],
   "source": [
    "# Getting general information about the DataFrame\n",
    "\n",
    "print(\"\\nData Frame Info:\")\n",
    "Returns_data.info()"
   ]
  },
  {
   "cell_type": "code",
   "execution_count": 20,
   "id": "3ea275b4",
   "metadata": {
    "scrolled": false
   },
   "outputs": [
    {
     "name": "stdout",
     "output_type": "stream",
     "text": [
      "Missing Values:\n",
      "  - Column 'Returned': 0 missing values\n",
      "  - Column 'Order ID': 0 missing values\n",
      "  - Column 'Market': 0 missing values\n"
     ]
    }
   ],
   "source": [
    "# Checking for missing values\n",
    "# Assuming you loaded your data into a DataFrame\n",
    "\n",
    "print(\"Missing Values:\")\n",
    "for col in Returns_data.columns:\n",
    "  # Counting the number of missing values per column\n",
    "  missing_count = Returns_data[col].isnull().sum()\n",
    "  # Printing the column name and number of missing values\n",
    "  print(f\"  - Column '{col}': {missing_count} missing values\")"
   ]
  },
  {
   "cell_type": "code",
   "execution_count": 21,
   "id": "5410e6d8",
   "metadata": {},
   "outputs": [
    {
     "name": "stdout",
     "output_type": "stream",
     "text": [
      "\n",
      "Data Type Inconsistencies:\n",
      "  - Column 'Returned': Expected type int64, Actual type object\n",
      "  - Column 'Order ID': Expected type int64, Actual type object\n",
      "  - Column 'Market': Expected type int64, Actual type object\n"
     ]
    }
   ],
   "source": [
    "# Checking for data inconsistencies \n",
    "\n",
    "print(\"\\nData Type Inconsistencies:\")\n",
    "for col in Returns_data.columns:\n",
    "  # Getting the expected data type (replace 'expected_type' with your expectation)\n",
    "  expected_type = 'int64'  # Example: Expecting integer data\n",
    "  if Returns_data[col].dtype != expected_type:\n",
    "    print(f\"  - Column '{col}': Expected type {expected_type}, Actual type {Returns_data[col].dtype}\")\n"
   ]
  },
  {
   "cell_type": "code",
   "execution_count": 22,
   "id": "2a5943ed",
   "metadata": {},
   "outputs": [
    {
     "name": "stdout",
     "output_type": "stream",
     "text": [
      "\n",
      "Invalid Values:\n",
      "  - No invalid values found\n"
     ]
    }
   ],
   "source": [
    "print(\"\\nInvalid Values:\")\n",
    "\n",
    "# Checking for \"no\" in the 'Returns' column\n",
    "invalid_count_returns = (Returns_data['Returned'] == \"no\").sum()\n",
    "\n",
    "# Printing message based on invalid value count\n",
    "if invalid_count_returns > 0:\n",
    "  print(f\"  - Column 'Returned': {invalid_count_returns} 'no' values found\")\n",
    "else:\n",
    "  print(\"  - No invalid values found\")"
   ]
  },
  {
   "cell_type": "code",
   "execution_count": 23,
   "id": "ebdab1be",
   "metadata": {},
   "outputs": [
    {
     "name": "stdout",
     "output_type": "stream",
     "text": [
      "\n",
      "Duplicate Rows: 0 rows found\n"
     ]
    }
   ],
   "source": [
    "# Checking for Duplicates\n",
    "\n",
    "duplicate_count = Returns_data.duplicated().sum()\n",
    "print(f\"\\nDuplicate Rows: {duplicate_count} rows found\")"
   ]
  },
  {
   "cell_type": "code",
   "execution_count": 24,
   "id": "87b429c6",
   "metadata": {},
   "outputs": [
    {
     "name": "stdout",
     "output_type": "stream",
     "text": [
      "\n",
      "Unique Order IDs: 4\n"
     ]
    }
   ],
   "source": [
    "# Checking for number of unique values in Customer ID\n",
    "\n",
    "unique_count = Returns_data['Order ID'].nunique()\n",
    "print(f\"\\nUnique Order IDs: {unique_count}\")"
   ]
  },
  {
   "cell_type": "code",
   "execution_count": 25,
   "id": "642792ab",
   "metadata": {},
   "outputs": [
    {
     "name": "stdout",
     "output_type": "stream",
     "text": [
      "\n",
      "Descriptive Statistics:\n",
      "       Returned        Order ID Market\n",
      "count         4               4      4\n",
      "unique        1               4      3\n",
      "top         Yes  CA-2012-124891  LATAM\n",
      "freq          4               1      2\n"
     ]
    }
   ],
   "source": [
    "# Descriptive statistics\n",
    "\n",
    "print(\"\\nDescriptive Statistics:\")\n",
    "print(Returns_data.describe(include='all'))  # For all data types"
   ]
  },
  {
   "cell_type": "code",
   "execution_count": 26,
   "id": "deee5132",
   "metadata": {},
   "outputs": [],
   "source": [
    "# Saving the cleaned DataFrame to a new CSV file\n",
    "\n",
    "Returns_data.to_csv(\"Processed_data_returns.csv\", index=False)"
   ]
  },
  {
   "cell_type": "markdown",
   "id": "08b4f9d5",
   "metadata": {},
   "source": [
    "# 1.1.3 Data Quality Assessing - People"
   ]
  },
  {
   "cell_type": "code",
   "execution_count": 27,
   "id": "5b55e78b",
   "metadata": {},
   "outputs": [
    {
     "name": "stdout",
     "output_type": "stream",
     "text": [
      "Missing Values:\n",
      "  - Column 'Person': 0 missing values\n",
      "  - Column 'Region': 0 missing values\n"
     ]
    }
   ],
   "source": [
    "# Checking for missing values\n",
    "\n",
    "print(\"Missing Values:\")\n",
    "for col in People_data.columns:\n",
    "  # Count the number of missing values per column\n",
    "  missing_count = People_data[col].isnull().sum()\n",
    "  # Print the column name and number of missing values\n",
    "  print(f\"  - Column '{col}': {missing_count} missing values\")\n"
   ]
  },
  {
   "cell_type": "code",
   "execution_count": 28,
   "id": "9e185348",
   "metadata": {},
   "outputs": [
    {
     "name": "stdout",
     "output_type": "stream",
     "text": [
      "\n",
      "Data Type Inconsistencies:\n",
      "  - Column 'Person': Expected type int64, Actual type object\n",
      "  - Column 'Region': Expected type int64, Actual type object\n"
     ]
    }
   ],
   "source": [
    "# Checking for data inconsistencies \n",
    "\n",
    "print(\"\\nData Type Inconsistencies:\")\n",
    "for col in People_data.columns:\n",
    "  # Getting the expected data type (replace 'expected_type' with your expectation)\n",
    "  expected_type = 'int64'  # Example: Expecting integer data\n",
    "  if People_data[col].dtype != expected_type:\n",
    "    print(f\"  - Column '{col}': Expected type {expected_type}, Actual type {People_data[col].dtype}\")\n"
   ]
  },
  {
   "cell_type": "code",
   "execution_count": 29,
   "id": "d04039bb",
   "metadata": {},
   "outputs": [
    {
     "name": "stdout",
     "output_type": "stream",
     "text": [
      "\n",
      "Duplicate Rows: 0 rows found\n"
     ]
    }
   ],
   "source": [
    "# Checking for Uniqueness\n",
    "\n",
    "duplicate_count = People_data.duplicated().sum()\n",
    "print(f\"\\nDuplicate Rows: {duplicate_count} rows found\")"
   ]
  },
  {
   "cell_type": "code",
   "execution_count": 30,
   "id": "7022b23e",
   "metadata": {},
   "outputs": [],
   "source": [
    "# Saving the cleaned DataFrame to a new CSV file (replace with desired format)\n",
    "\n",
    "People_data.to_csv(\"Processed_data_people.csv\", index=False)"
   ]
  },
  {
   "cell_type": "code",
   "execution_count": 31,
   "id": "2910943c",
   "metadata": {},
   "outputs": [
    {
     "name": "stdout",
     "output_type": "stream",
     "text": [
      "Combined data successfully saved to 'Processed_GlobalSuperstoreLite.csv'.\n"
     ]
    }
   ],
   "source": [
    "# Definning the list of CSV filename\n",
    "csv_filenames = [\"Processed_data_orders.csv\", \"Processed_data_returns.csv\", \"Processed_data_people.csv\"]\n",
    "\n",
    "# Creating an empty list to store the DataFrames\n",
    "dataframes = []\n",
    "\n",
    "# Reading each CSV file into a pandas DataFrame\n",
    "for filename in csv_filenames:\n",
    "    try:\n",
    "        df = pd.read_csv(filename)\n",
    "        dataframes.append(df)\n",
    "    except FileNotFoundError:\n",
    "        print(f\"Error: File '{filename}' not found. Skipping...\")\n",
    "\n",
    "# Checking if any files were successfully read\n",
    "if not dataframes:\n",
    "    print(\"Error: No CSV files were found. Please check the filenames and try again.\")\n",
    "    exit()\n",
    "\n",
    "# Concatenating the DataFrames vertically (all rows stacked)\n",
    "combined_df = pd.concat(dataframes, ignore_index=True)  # Avoid duplicate indices\n",
    "\n",
    "# Specifying the output filename and file format (CSV or Excel)\n",
    "output_filename = 'Processed_GlobalSuperstoreLite.csv'  # Change to 'combined_data.xlsx' for Excel\n",
    "output_format = 'csv'  # Change to 'xlsx' for Excel\n",
    "\n",
    "# Saving the combined DataFrame to the desired format\n",
    "combined_df.to_csv(output_filename, index=False) if output_format == 'csv' else combined_df.to_excel(output_filename, index=False)\n",
    "\n",
    "print(f\"Combined data successfully saved to '{output_filename}'.\")\n"
   ]
  },
  {
   "cell_type": "code",
   "execution_count": 32,
   "id": "b30c0c73",
   "metadata": {
    "scrolled": false
   },
   "outputs": [
    {
     "name": "stdout",
     "output_type": "stream",
     "text": [
      "Requirement already satisfied: mlxtend in c:\\users\\senul laksindu\\anaconda3\\lib\\site-packages (0.23.1)\n",
      "Requirement already satisfied: scipy>=1.2.1 in c:\\users\\senul laksindu\\anaconda3\\lib\\site-packages (from mlxtend) (1.11.1)\n",
      "Requirement already satisfied: numpy>=1.16.2 in c:\\users\\senul laksindu\\anaconda3\\lib\\site-packages (from mlxtend) (1.24.3)\n",
      "Requirement already satisfied: pandas>=0.24.2 in c:\\users\\senul laksindu\\anaconda3\\lib\\site-packages (from mlxtend) (2.0.3)\n",
      "Requirement already satisfied: scikit-learn>=1.0.2 in c:\\users\\senul laksindu\\anaconda3\\lib\\site-packages (from mlxtend) (1.3.0)\n",
      "Requirement already satisfied: matplotlib>=3.0.0 in c:\\users\\senul laksindu\\anaconda3\\lib\\site-packages (from mlxtend) (3.7.2)\n",
      "Requirement already satisfied: joblib>=0.13.2 in c:\\users\\senul laksindu\\anaconda3\\lib\\site-packages (from mlxtend) (1.2.0)\n",
      "Requirement already satisfied: contourpy>=1.0.1 in c:\\users\\senul laksindu\\anaconda3\\lib\\site-packages (from matplotlib>=3.0.0->mlxtend) (1.0.5)\n",
      "Requirement already satisfied: cycler>=0.10 in c:\\users\\senul laksindu\\anaconda3\\lib\\site-packages (from matplotlib>=3.0.0->mlxtend) (0.11.0)\n",
      "Requirement already satisfied: fonttools>=4.22.0 in c:\\users\\senul laksindu\\anaconda3\\lib\\site-packages (from matplotlib>=3.0.0->mlxtend) (4.25.0)\n",
      "Requirement already satisfied: kiwisolver>=1.0.1 in c:\\users\\senul laksindu\\anaconda3\\lib\\site-packages (from matplotlib>=3.0.0->mlxtend) (1.4.4)\n",
      "Requirement already satisfied: packaging>=20.0 in c:\\users\\senul laksindu\\anaconda3\\lib\\site-packages (from matplotlib>=3.0.0->mlxtend) (23.1)\n",
      "Requirement already satisfied: pillow>=6.2.0 in c:\\users\\senul laksindu\\anaconda3\\lib\\site-packages (from matplotlib>=3.0.0->mlxtend) (9.4.0)\n",
      "Requirement already satisfied: pyparsing<3.1,>=2.3.1 in c:\\users\\senul laksindu\\anaconda3\\lib\\site-packages (from matplotlib>=3.0.0->mlxtend) (3.0.9)\n",
      "Requirement already satisfied: python-dateutil>=2.7 in c:\\users\\senul laksindu\\anaconda3\\lib\\site-packages (from matplotlib>=3.0.0->mlxtend) (2.8.2)\n",
      "Requirement already satisfied: pytz>=2020.1 in c:\\users\\senul laksindu\\anaconda3\\lib\\site-packages (from pandas>=0.24.2->mlxtend) (2023.3.post1)\n",
      "Requirement already satisfied: tzdata>=2022.1 in c:\\users\\senul laksindu\\anaconda3\\lib\\site-packages (from pandas>=0.24.2->mlxtend) (2023.3)\n",
      "Requirement already satisfied: threadpoolctl>=2.0.0 in c:\\users\\senul laksindu\\anaconda3\\lib\\site-packages (from scikit-learn>=1.0.2->mlxtend) (2.2.0)\n",
      "Requirement already satisfied: six>=1.5 in c:\\users\\senul laksindu\\anaconda3\\lib\\site-packages (from python-dateutil>=2.7->matplotlib>=3.0.0->mlxtend) (1.16.0)\n"
     ]
    }
   ],
   "source": [
    "!pip install mlxtend"
   ]
  },
  {
   "cell_type": "code",
   "execution_count": 33,
   "id": "26cce85b",
   "metadata": {},
   "outputs": [],
   "source": [
    "# Importing necessary libraries\n",
    "\n",
    "import pandas as pd\n",
    "from mlxtend.frequent_patterns import apriori, association_rules"
   ]
  },
  {
   "cell_type": "code",
   "execution_count": 34,
   "id": "a98c29cf",
   "metadata": {
    "scrolled": false
   },
   "outputs": [
    {
     "name": "stdout",
     "output_type": "stream",
     "text": [
      "Frequent Itemsets:\n",
      "     support                     itemsets\n",
      "0   0.142857                (Accessories)\n",
      "1   0.190476                 (Appliances)\n",
      "2   0.214286                  (Bookcases)\n",
      "3   0.261905                     (Chairs)\n",
      "4   0.285714                    (Copiers)\n",
      "5   0.214286                   (Machines)\n",
      "6   0.380952                     (Phones)\n",
      "7   0.071429                    (Storage)\n",
      "8   0.023810                   (Supplies)\n",
      "9   0.095238                     (Tables)\n",
      "10  0.023810    (Appliances, Accessories)\n",
      "11  0.047619        (Chairs, Accessories)\n",
      "12  0.047619      (Machines, Accessories)\n",
      "13  0.023810        (Tables, Accessories)\n",
      "14  0.023810      (Bookcases, Appliances)\n",
      "15  0.023810         (Chairs, Appliances)\n",
      "16  0.023810        (Appliances, Copiers)\n",
      "17  0.095238         (Appliances, Phones)\n",
      "18  0.023810          (Bookcases, Chairs)\n",
      "19  0.095238         (Bookcases, Copiers)\n",
      "20  0.023810          (Bookcases, Phones)\n",
      "21  0.023810        (Bookcases, Supplies)\n",
      "22  0.023810          (Bookcases, Tables)\n",
      "23  0.047619            (Chairs, Copiers)\n",
      "24  0.023810           (Chairs, Machines)\n",
      "25  0.023810             (Chairs, Phones)\n",
      "26  0.023810            (Chairs, Storage)\n",
      "27  0.047619             (Chairs, Tables)\n",
      "28  0.023810          (Machines, Copiers)\n",
      "29  0.047619            (Copiers, Phones)\n",
      "30  0.047619           (Copiers, Storage)\n",
      "31  0.095238           (Machines, Phones)\n",
      "32  0.023810             (Tables, Phones)\n",
      "33  0.023810  (Bookcases, Chairs, Tables)\n",
      "\n",
      "Association Rules:\n",
      "            antecedents          consequents  antecedent support  \\\n",
      "0              (Chairs)        (Accessories)            0.261905   \n",
      "1         (Accessories)             (Chairs)            0.142857   \n",
      "2            (Machines)        (Accessories)            0.214286   \n",
      "3         (Accessories)           (Machines)            0.142857   \n",
      "4              (Tables)        (Accessories)            0.095238   \n",
      "5         (Accessories)             (Tables)            0.142857   \n",
      "6          (Appliances)             (Phones)            0.190476   \n",
      "7              (Phones)         (Appliances)            0.380952   \n",
      "8           (Bookcases)            (Copiers)            0.214286   \n",
      "9             (Copiers)          (Bookcases)            0.285714   \n",
      "10          (Bookcases)           (Supplies)            0.214286   \n",
      "11           (Supplies)          (Bookcases)            0.023810   \n",
      "12          (Bookcases)             (Tables)            0.214286   \n",
      "13             (Tables)          (Bookcases)            0.095238   \n",
      "14             (Chairs)            (Storage)            0.261905   \n",
      "15            (Storage)             (Chairs)            0.071429   \n",
      "16             (Chairs)             (Tables)            0.261905   \n",
      "17             (Tables)             (Chairs)            0.095238   \n",
      "18            (Copiers)            (Storage)            0.285714   \n",
      "19            (Storage)            (Copiers)            0.071429   \n",
      "20           (Machines)             (Phones)            0.214286   \n",
      "21             (Phones)           (Machines)            0.380952   \n",
      "22  (Bookcases, Chairs)             (Tables)            0.023810   \n",
      "23  (Bookcases, Tables)             (Chairs)            0.023810   \n",
      "24     (Chairs, Tables)          (Bookcases)            0.047619   \n",
      "25          (Bookcases)     (Chairs, Tables)            0.214286   \n",
      "26             (Chairs)  (Bookcases, Tables)            0.261905   \n",
      "27             (Tables)  (Bookcases, Chairs)            0.095238   \n",
      "\n",
      "    consequent support   support  confidence       lift  leverage  conviction  \\\n",
      "0             0.142857  0.047619    0.181818   1.272727  0.010204    1.047619   \n",
      "1             0.261905  0.047619    0.333333   1.272727  0.010204    1.107143   \n",
      "2             0.142857  0.047619    0.222222   1.555556  0.017007    1.102041   \n",
      "3             0.214286  0.047619    0.333333   1.555556  0.017007    1.178571   \n",
      "4             0.142857  0.023810    0.250000   1.750000  0.010204    1.142857   \n",
      "5             0.095238  0.023810    0.166667   1.750000  0.010204    1.085714   \n",
      "6             0.380952  0.095238    0.500000   1.312500  0.022676    1.238095   \n",
      "7             0.190476  0.095238    0.250000   1.312500  0.022676    1.079365   \n",
      "8             0.285714  0.095238    0.444444   1.555556  0.034014    1.285714   \n",
      "9             0.214286  0.095238    0.333333   1.555556  0.034014    1.178571   \n",
      "10            0.023810  0.023810    0.111111   4.666667  0.018707    1.098214   \n",
      "11            0.214286  0.023810    1.000000   4.666667  0.018707         inf   \n",
      "12            0.095238  0.023810    0.111111   1.166667  0.003401    1.017857   \n",
      "13            0.214286  0.023810    0.250000   1.166667  0.003401    1.047619   \n",
      "14            0.071429  0.023810    0.090909   1.272727  0.005102    1.021429   \n",
      "15            0.261905  0.023810    0.333333   1.272727  0.005102    1.107143   \n",
      "16            0.095238  0.047619    0.181818   1.909091  0.022676    1.105820   \n",
      "17            0.261905  0.047619    0.500000   1.909091  0.022676    1.476190   \n",
      "18            0.071429  0.047619    0.166667   2.333333  0.027211    1.114286   \n",
      "19            0.285714  0.047619    0.666667   2.333333  0.027211    2.142857   \n",
      "20            0.380952  0.095238    0.444444   1.166667  0.013605    1.114286   \n",
      "21            0.214286  0.095238    0.250000   1.166667  0.013605    1.047619   \n",
      "22            0.095238  0.023810    1.000000  10.500000  0.021542         inf   \n",
      "23            0.261905  0.023810    1.000000   3.818182  0.017574         inf   \n",
      "24            0.214286  0.023810    0.500000   2.333333  0.013605    1.571429   \n",
      "25            0.047619  0.023810    0.111111   2.333333  0.013605    1.071429   \n",
      "26            0.023810  0.023810    0.090909   3.818182  0.017574    1.073810   \n",
      "27            0.023810  0.023810    0.250000  10.500000  0.021542    1.301587   \n",
      "\n",
      "    zhangs_metric  \n",
      "0        0.290323  \n",
      "1        0.250000  \n",
      "2        0.454545  \n",
      "3        0.416667  \n",
      "4        0.473684  \n",
      "5        0.500000  \n",
      "6        0.294118  \n",
      "7        0.384615  \n",
      "8        0.454545  \n",
      "9        0.500000  \n",
      "10       1.000000  \n",
      "11       0.804878  \n",
      "12       0.181818  \n",
      "13       0.157895  \n",
      "14       0.290323  \n",
      "15       0.230769  \n",
      "16       0.645161  \n",
      "17       0.526316  \n",
      "18       0.800000  \n",
      "19       0.615385  \n",
      "20       0.181818  \n",
      "21       0.230769  \n",
      "22       0.926829  \n",
      "23       0.756098  \n",
      "24       0.600000  \n",
      "25       0.727273  \n",
      "26       1.000000  \n",
      "27       1.000000  \n"
     ]
    },
    {
     "name": "stderr",
     "output_type": "stream",
     "text": [
      "C:\\Users\\SENUL LAKSINDU\\anaconda3\\Lib\\site-packages\\mlxtend\\frequent_patterns\\fpcommon.py:109: DeprecationWarning: DataFrames with non-bool types result in worse computationalperformance and their support might be discontinued in the future.Please use a DataFrame with bool type\n",
      "  warnings.warn(\n"
     ]
    }
   ],
   "source": [
    "# Loading the dataset (replace \"Global Superstore lite.xlsx\" with your dataset)\n",
    "data = pd.read_csv('Processed_GlobalSuperstoreLite.csv')\n",
    "\n",
    "# Creating a DataFrame from the dataset\n",
    "df = pd.DataFrame(data)\n",
    "\n",
    "# Identifying repeated order IDs\n",
    "repeated_order_ids = df[df.duplicated(subset=['Order ID'], keep=False)]['Order ID'].unique()\n",
    "\n",
    "# Filtering the DataFrame to keep only rows with repeated order IDs\n",
    "df_repeated_orders = df[df['Order ID'].isin(repeated_order_ids)]\n",
    "\n",
    "# Converting Order ID and Sub-Category into a list of lists format\n",
    "basket = (df_repeated_orders.groupby(['Order ID', 'Sub-Category'])['Row ID']\n",
    ".count().unstack().reset_index().fillna(0)\n",
    ".set_index('Order ID'))\n",
    "\n",
    "# Converting counts to binary values (0 or 1)\n",
    "transaction_df = basket.applymap(lambda x: 1 if x > 0 else 0)\n",
    "\n",
    "# Generating frequent itemsets\n",
    "frequent_itemsets = apriori(transaction_df, min_support=0.01, use_colnames=True)\n",
    "\n",
    "# Generating association rules\n",
    "rules = association_rules(frequent_itemsets, metric=\"lift\", min_threshold=1)\n",
    "\n",
    "# Printing frequent itemsets\n",
    "print(\"Frequent Itemsets:\")\n",
    "print(frequent_itemsets)\n",
    "\n",
    "# Printing association rules\n",
    "print(\"\\nAssociation Rules:\")\n",
    "print(rules)"
   ]
  },
  {
   "cell_type": "code",
   "execution_count": 35,
   "id": "9059ae60",
   "metadata": {
    "scrolled": false
   },
   "outputs": [
    {
     "name": "stderr",
     "output_type": "stream",
     "text": [
      "C:\\Users\\SENUL LAKSINDU\\anaconda3\\Lib\\site-packages\\mlxtend\\frequent_patterns\\fpcommon.py:109: DeprecationWarning: DataFrames with non-bool types result in worse computationalperformance and their support might be discontinued in the future.Please use a DataFrame with bool type\n",
      "  warnings.warn(\n"
     ]
    },
    {
     "name": "stdout",
     "output_type": "stream",
     "text": [
      "Frequent Itemsets:\n",
      "     support                     itemsets\n",
      "0   0.142857                (Accessories)\n",
      "1   0.190476                 (Appliances)\n",
      "2   0.214286                  (Bookcases)\n",
      "3   0.261905                     (Chairs)\n",
      "4   0.285714                    (Copiers)\n",
      "5   0.214286                   (Machines)\n",
      "6   0.380952                     (Phones)\n",
      "7   0.071429                    (Storage)\n",
      "8   0.023810                   (Supplies)\n",
      "9   0.095238                     (Tables)\n",
      "10  0.023810    (Appliances, Accessories)\n",
      "11  0.047619        (Chairs, Accessories)\n",
      "12  0.047619      (Machines, Accessories)\n",
      "13  0.023810        (Tables, Accessories)\n",
      "14  0.023810      (Bookcases, Appliances)\n",
      "15  0.023810         (Chairs, Appliances)\n",
      "16  0.023810        (Appliances, Copiers)\n",
      "17  0.095238         (Appliances, Phones)\n",
      "18  0.023810          (Bookcases, Chairs)\n",
      "19  0.095238         (Bookcases, Copiers)\n",
      "20  0.023810          (Bookcases, Phones)\n",
      "21  0.023810        (Bookcases, Supplies)\n",
      "22  0.023810          (Bookcases, Tables)\n",
      "23  0.047619            (Chairs, Copiers)\n",
      "24  0.023810           (Chairs, Machines)\n",
      "25  0.023810             (Chairs, Phones)\n",
      "26  0.023810            (Chairs, Storage)\n",
      "27  0.047619             (Chairs, Tables)\n",
      "28  0.023810          (Machines, Copiers)\n",
      "29  0.047619            (Copiers, Phones)\n",
      "30  0.047619           (Copiers, Storage)\n",
      "31  0.095238           (Machines, Phones)\n",
      "32  0.023810             (Tables, Phones)\n",
      "33  0.023810  (Bookcases, Chairs, Tables)\n",
      "\n",
      "Association Rules:\n",
      "            antecedents          consequents  antecedent support  \\\n",
      "0              (Chairs)        (Accessories)            0.261905   \n",
      "1         (Accessories)             (Chairs)            0.142857   \n",
      "2            (Machines)        (Accessories)            0.214286   \n",
      "3         (Accessories)           (Machines)            0.142857   \n",
      "4              (Tables)        (Accessories)            0.095238   \n",
      "5         (Accessories)             (Tables)            0.142857   \n",
      "6          (Appliances)             (Phones)            0.190476   \n",
      "7              (Phones)         (Appliances)            0.380952   \n",
      "8           (Bookcases)            (Copiers)            0.214286   \n",
      "9             (Copiers)          (Bookcases)            0.285714   \n",
      "10          (Bookcases)           (Supplies)            0.214286   \n",
      "11           (Supplies)          (Bookcases)            0.023810   \n",
      "12          (Bookcases)             (Tables)            0.214286   \n",
      "13             (Tables)          (Bookcases)            0.095238   \n",
      "14             (Chairs)            (Storage)            0.261905   \n",
      "15            (Storage)             (Chairs)            0.071429   \n",
      "16             (Chairs)             (Tables)            0.261905   \n",
      "17             (Tables)             (Chairs)            0.095238   \n",
      "18            (Copiers)            (Storage)            0.285714   \n",
      "19            (Storage)            (Copiers)            0.071429   \n",
      "20           (Machines)             (Phones)            0.214286   \n",
      "21             (Phones)           (Machines)            0.380952   \n",
      "22  (Bookcases, Chairs)             (Tables)            0.023810   \n",
      "23  (Bookcases, Tables)             (Chairs)            0.023810   \n",
      "24     (Chairs, Tables)          (Bookcases)            0.047619   \n",
      "25          (Bookcases)     (Chairs, Tables)            0.214286   \n",
      "26             (Chairs)  (Bookcases, Tables)            0.261905   \n",
      "27             (Tables)  (Bookcases, Chairs)            0.095238   \n",
      "\n",
      "    consequent support   support  confidence       lift  leverage  conviction  \\\n",
      "0             0.142857  0.047619    0.181818   1.272727  0.010204    1.047619   \n",
      "1             0.261905  0.047619    0.333333   1.272727  0.010204    1.107143   \n",
      "2             0.142857  0.047619    0.222222   1.555556  0.017007    1.102041   \n",
      "3             0.214286  0.047619    0.333333   1.555556  0.017007    1.178571   \n",
      "4             0.142857  0.023810    0.250000   1.750000  0.010204    1.142857   \n",
      "5             0.095238  0.023810    0.166667   1.750000  0.010204    1.085714   \n",
      "6             0.380952  0.095238    0.500000   1.312500  0.022676    1.238095   \n",
      "7             0.190476  0.095238    0.250000   1.312500  0.022676    1.079365   \n",
      "8             0.285714  0.095238    0.444444   1.555556  0.034014    1.285714   \n",
      "9             0.214286  0.095238    0.333333   1.555556  0.034014    1.178571   \n",
      "10            0.023810  0.023810    0.111111   4.666667  0.018707    1.098214   \n",
      "11            0.214286  0.023810    1.000000   4.666667  0.018707         inf   \n",
      "12            0.095238  0.023810    0.111111   1.166667  0.003401    1.017857   \n",
      "13            0.214286  0.023810    0.250000   1.166667  0.003401    1.047619   \n",
      "14            0.071429  0.023810    0.090909   1.272727  0.005102    1.021429   \n",
      "15            0.261905  0.023810    0.333333   1.272727  0.005102    1.107143   \n",
      "16            0.095238  0.047619    0.181818   1.909091  0.022676    1.105820   \n",
      "17            0.261905  0.047619    0.500000   1.909091  0.022676    1.476190   \n",
      "18            0.071429  0.047619    0.166667   2.333333  0.027211    1.114286   \n",
      "19            0.285714  0.047619    0.666667   2.333333  0.027211    2.142857   \n",
      "20            0.380952  0.095238    0.444444   1.166667  0.013605    1.114286   \n",
      "21            0.214286  0.095238    0.250000   1.166667  0.013605    1.047619   \n",
      "22            0.095238  0.023810    1.000000  10.500000  0.021542         inf   \n",
      "23            0.261905  0.023810    1.000000   3.818182  0.017574         inf   \n",
      "24            0.214286  0.023810    0.500000   2.333333  0.013605    1.571429   \n",
      "25            0.047619  0.023810    0.111111   2.333333  0.013605    1.071429   \n",
      "26            0.023810  0.023810    0.090909   3.818182  0.017574    1.073810   \n",
      "27            0.023810  0.023810    0.250000  10.500000  0.021542    1.301587   \n",
      "\n",
      "    zhangs_metric  \n",
      "0        0.290323  \n",
      "1        0.250000  \n",
      "2        0.454545  \n",
      "3        0.416667  \n",
      "4        0.473684  \n",
      "5        0.500000  \n",
      "6        0.294118  \n",
      "7        0.384615  \n",
      "8        0.454545  \n",
      "9        0.500000  \n",
      "10       1.000000  \n",
      "11       0.804878  \n",
      "12       0.181818  \n",
      "13       0.157895  \n",
      "14       0.290323  \n",
      "15       0.230769  \n",
      "16       0.645161  \n",
      "17       0.526316  \n",
      "18       0.800000  \n",
      "19       0.615385  \n",
      "20       0.181818  \n",
      "21       0.230769  \n",
      "22       0.926829  \n",
      "23       0.756098  \n",
      "24       0.600000  \n",
      "25       0.727273  \n",
      "26       1.000000  \n",
      "27       1.000000  \n"
     ]
    },
    {
     "data": {
      "image/png": "[encoded data removed]",
      "text/plain": [
       "<Figure size 1000x800 with 2 Axes>"
      ]
     },
     "metadata": {},
     "output_type": "display_data"
    }
   ],
   "source": [
    "# Importing necessary libraries\n",
    "\n",
    "# Loading the dataset (replace \"Global Superstore lite.xlsx\" with your dataset)\n",
    "data = pd.read_csv('Processed_GlobalSuperstoreLite.csv')\n",
    "\n",
    "# Creating a DataFrame from the dataset\n",
    "df = pd.DataFrame(data)\n",
    "\n",
    "# Identifying repeated order IDs\n",
    "repeated_order_ids = df[df.duplicated(subset=['Order ID'], keep=False)]['Order ID'].unique()\n",
    "\n",
    "# Filtering the DataFrame to keep only rows with repeated order IDs\n",
    "df_repeated_orders = df[df['Order ID'].isin(repeated_order_ids)]\n",
    "\n",
    "# Converting Order ID and Sub-Category into a list of lists format\n",
    "basket = (df_repeated_orders.groupby(['Order ID', 'Sub-Category'])['Row ID']\n",
    ".count().unstack().reset_index().fillna(0)\n",
    ".set_index('Order ID'))\n",
    "\n",
    "# Converting counts to binary values (0 or 1)\n",
    "transaction_df = basket.applymap(lambda x: 1 if x > 0 else 0)\n",
    "\n",
    "# Generating frequent itemsets\n",
    "frequent_itemsets = apriori(transaction_df, min_support=0.01, use_colnames=True)\n",
    "\n",
    "# Generating association rules\n",
    "rules = association_rules(frequent_itemsets, metric=\"lift\", min_threshold=1)\n",
    "\n",
    "# Printing frequent itemsets\n",
    "print(\"Frequent Itemsets:\")\n",
    "print(frequent_itemsets)\n",
    "\n",
    "# Printing association rules\n",
    "print(\"\\nAssociation Rules:\")\n",
    "print(rules)\n",
    "\n",
    "\n",
    "import seaborn as sns\n",
    "import matplotlib.pyplot as plt\n",
    "\n",
    "# Pivoting the association rules DataFrame for better visualization\n",
    "pivot_table = rules.pivot(index='antecedents', columns='consequents', values='lift')\n",
    "\n",
    "# Creating the heatmap\n",
    "plt.figure(figsize=(10, 8))\n",
    "sns.heatmap(pivot_table, annot=True, cmap='coolwarm', fmt=\".2f\", linewidths=0.5)\n",
    "plt.title(\"Association Rules Heatmap (Lift)\")\n",
    "plt.xlabel(\"Consequents\")\n",
    "plt.ylabel(\"Antecedents\")\n",
    "plt.xticks(rotation=45)\n",
    "plt.yticks(rotation=0)\n",
    "plt.show()\n"
   ]
  },
  {
   "cell_type": "code",
   "execution_count": 36,
   "id": "e1728689",
   "metadata": {},
   "outputs": [
    {
     "name": "stdout",
     "output_type": "stream",
     "text": [
      "Association Rules:\n",
      "    antecedents   consequents   support  confidence      lift\n",
      "0  (Appliances)      (Phones)  0.095238    0.500000  1.312500\n",
      "1      (Phones)  (Appliances)  0.095238    0.250000  1.312500\n",
      "2   (Bookcases)     (Copiers)  0.095238    0.444444  1.555556\n",
      "3     (Copiers)   (Bookcases)  0.095238    0.333333  1.555556\n",
      "4    (Machines)      (Phones)  0.095238    0.444444  1.166667\n",
      "5      (Phones)    (Machines)  0.095238    0.250000  1.166667\n"
     ]
    }
   ],
   "source": [
    "# Converting non-boolean types to boolean\n",
    "transaction_df = transaction_df.astype(bool)\n",
    "\n",
    "# Replacing non-zero values with True and zero values with False\n",
    "transaction_df = transaction_df.applymap(lambda x: True if x != 0 else False)\n",
    "\n",
    "# Performing association rule mining\n",
    "frequent_itemsets = apriori(transaction_df, min_support=0.05, use_colnames=True)\n",
    "rules = association_rules(frequent_itemsets, metric=\"lift\", min_threshold=1.0)\n",
    "\n",
    "# Displaying the association rules with support, confidence, and lift\n",
    "print(\"Association Rules:\")\n",
    "print(rules[['antecedents', 'consequents', 'support', 'confidence', 'lift']])\n",
    "\n"
   ]
  },
  {
   "cell_type": "code",
   "execution_count": 39,
   "id": "396622eb",
   "metadata": {},
   "outputs": [
    {
     "name": "stdout",
     "output_type": "stream",
     "text": [
      "    antecedents consequents  antecedent support  consequent support   support  \\\n",
      "0  (Appliances)    (Phones)            0.190476            0.380952  0.095238   \n",
      "\n",
      "   confidence    lift  leverage  conviction  zhangs_metric  error_margin  \n",
      "0         0.5  1.3125  0.022676    1.238095       0.294118      0.195556  \n"
     ]
    }
   ],
   "source": [
    "import numpy as np  # Import numpy library\n",
    "from mlxtend.frequent_patterns import apriori\n",
    "from mlxtend.frequent_patterns import association_rules\n",
    "\n",
    "# Assuming you have already loaded your transaction data into transaction_df\n",
    "# Convert non-boolean types to boolean (assuming this step is necessary)\n",
    "transaction_df = transaction_df.astype(bool)\n",
    "\n",
    "def calculate_error_margins(transaction_df, iterations=1000, confidence_level=0.95):\n",
    "  \"\"\"\n",
    "  This function calculates error margins for association rules using bootstrapping.\n",
    "\n",
    "  Args:\n",
    "      transaction_df (pandas.DataFrame): The DataFrame containing transaction data.\n",
    "      iterations (int, optional): The number of bootstrap samples to draw. Defaults to 1000.\n",
    "      confidence_level (float, optional): The confidence level for error margins. Defaults to 0.95.\n",
    "\n",
    "  Returns:\n",
    "      list: A list of error margins for each rule.\n",
    "  \"\"\"\n",
    "  error_margins = []\n",
    "  for index, rule in rules.iterrows():\n",
    "    confidences = []\n",
    "    for _ in range(iterations):\n",
    "      # Generating bootstrap sample\n",
    "      bootstrap_sample = transaction_df.sample(n=len(transaction_df), replace=True)\n",
    "      # Performing association rule mining on bootstrap sample\n",
    "      bootstrap_frequent_itemsets = apriori(bootstrap_sample, min_support=0.05, use_colnames=True)\n",
    "      bootstrap_rules = association_rules(bootstrap_frequent_itemsets, metric=\"confidence\", min_threshold=0.5)\n",
    "      # Finding confidence for the rule in the bootstrap sample\n",
    "      matching_rule = bootstrap_rules[(bootstrap_rules['antecedents'] == rule['antecedents']) & (bootstrap_rules['consequents'] == rule['consequents'])]\n",
    "      if len(matching_rule) > 0:\n",
    "        confidences.append(matching_rule.iloc[0]['confidence'])\n",
    "    # Calculating error margin using percentile method\n",
    "    lower_bound = np.percentile(confidences, (1 - confidence_level) / 2 * 100)  # Use np.percentile\n",
    "    upper_bound = np.percentile(confidences, (1 + confidence_level) / 2 * 100)  # Use np.percentile\n",
    "    error_margin = (upper_bound - lower_bound) / 2\n",
    "    error_margins.append(error_margin)\n",
    "  return error_margins\n",
    "\n",
    "# Performing association rule mining\n",
    "frequent_itemsets = apriori(transaction_df, min_support=0.05, use_colnames=True)\n",
    "rules = association_rules(frequent_itemsets, metric=\"confidence\", min_threshold=0.5)\n",
    "\n",
    "# Calculating error margins for association rules\n",
    "error_margins = calculate_error_margins(transaction_df)  # Pass transaction_df directly\n",
    "\n",
    "# Adding error margins to the rules DataFrame\n",
    "rules['error_margin'] = error_margins\n",
    "\n",
    "# Displaying rules with error margins\n",
    "print(rules)\n"
   ]
  }
 ],
 "metadata": {
  "kernelspec": {
   "display_name": "Python 3 (ipykernel)",
   "language": "python",
   "name": "python3"
  },
  "language_info": {
   "codemirror_mode": {
    "name": "ipython",
    "version": 3
   },
   "file_extension": ".py",
   "mimetype": "text/x-python",
   "name": "python",
   "nbconvert_exporter": "python",
   "pygments_lexer": "ipython3",
   "version": "3.11.5"
  }
 },
 "nbformat": 4,
 "nbformat_minor": 5
}
